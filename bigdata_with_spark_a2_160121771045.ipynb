{
  "nbformat": 4,
  "nbformat_minor": 0,
  "metadata": {
    "colab": {
      "provenance": [],
      "authorship_tag": "ABX9TyMxwPJl2c3LSo8kn+KfXem5",
      "include_colab_link": true
    },
    "kernelspec": {
      "name": "python3",
      "display_name": "Python 3"
    },
    "language_info": {
      "name": "python"
    }
  },
  "cells": [
    {
      "cell_type": "markdown",
      "metadata": {
        "id": "view-in-github",
        "colab_type": "text"
      },
      "source": [
        "<a href=\"https://colab.research.google.com/github/Howard3309/Least-Price-Detector/blob/main/bigdata_with_spark_a2_160121771045.ipynb\" target=\"_parent\"><img src=\"https://colab.research.google.com/assets/colab-badge.svg\" alt=\"Open In Colab\"/></a>"
      ]
    },
    {
      "cell_type": "code",
      "source": [
        "# Clean up any old Spark folders\n",
        "!rm -rf spark-*\n",
        "\n",
        "# Install Java\n",
        "!apt-get install openjdk-11-jdk-headless -qq > /dev/null\n",
        "\n",
        "# Download Spark 3.4.1 (which works well in Colab)\n",
        "!wget -q https://archive.apache.org/dist/spark/spark-3.4.1/spark-3.4.1-bin-hadoop3.tgz\n",
        "\n",
        "# Extract Spark\n",
        "!tar -xzf spark-3.4.1-bin-hadoop3.tgz\n",
        "\n",
        "# Install findspark\n",
        "!pip install -q findspark\n"
      ],
      "metadata": {
        "id": "dRglCaJAC99Z"
      },
      "execution_count": null,
      "outputs": []
    },
    {
      "cell_type": "code",
      "source": [
        "import os\n",
        "import findspark\n",
        "\n",
        "os.environ[\"JAVA_HOME\"] = \"/usr/lib/jvm/java-11-openjdk-amd64\"\n",
        "os.environ[\"SPARK_HOME\"] = \"/content/spark-3.4.1-bin-hadoop3\"\n",
        "\n",
        "findspark.init()\n",
        "\n",
        "from pyspark.sql import SparkSession\n",
        "spark = SparkSession.builder.appName(\"SparkML\").getOrCreate()\n",
        "spark\n"
      ],
      "metadata": {
        "colab": {
          "base_uri": "https://localhost:8080/",
          "height": 221
        },
        "id": "70c6dtawDVcy",
        "outputId": "6a3ef87a-6fbb-40e0-9467-5cd615d94985"
      },
      "execution_count": null,
      "outputs": [
        {
          "output_type": "execute_result",
          "data": {
            "text/plain": [
              "<pyspark.sql.session.SparkSession at 0x7c79e82a28d0>"
            ],
            "text/html": [
              "\n",
              "            <div>\n",
              "                <p><b>SparkSession - in-memory</b></p>\n",
              "                \n",
              "        <div>\n",
              "            <p><b>SparkContext</b></p>\n",
              "\n",
              "            <p><a href=\"http://637f5c5b1b30:4040\">Spark UI</a></p>\n",
              "\n",
              "            <dl>\n",
              "              <dt>Version</dt>\n",
              "                <dd><code>v3.4.1</code></dd>\n",
              "              <dt>Master</dt>\n",
              "                <dd><code>local[*]</code></dd>\n",
              "              <dt>AppName</dt>\n",
              "                <dd><code>SparkML</code></dd>\n",
              "            </dl>\n",
              "        </div>\n",
              "        \n",
              "            </div>\n",
              "        "
            ]
          },
          "metadata": {},
          "execution_count": 6
        }
      ]
    },
    {
      "cell_type": "code",
      "source": [
        "# Load dataset\n",
        "import pandas as pd\n",
        "url = \"https://raw.githubusercontent.com/datasciencedojo/datasets/master/titanic.csv\"\n",
        "pdf = pd.read_csv(url)\n",
        "\n",
        "# Convert to Spark DataFrame\n",
        "df = spark.createDataFrame(pdf)\n",
        "\n",
        "# Select relevant features\n",
        "from pyspark.ml.feature import StringIndexer, VectorAssembler, Imputer\n",
        "from pyspark.ml.classification import LogisticRegression\n",
        "\n",
        "indexer = StringIndexer(inputCol=\"Sex\", outputCol=\"SexIndex\")\n",
        "df = indexer.fit(df).transform(df)\n",
        "\n",
        "# Impute missing values for 'Age' and 'Fare' before assembling features\n",
        "imputer = Imputer(inputCols=[\"Age\", \"Fare\"], outputCols=[\"Age_imputed\", \"Fare_imputed\"])\n",
        "df = imputer.fit(df).transform(df)\n",
        "\n",
        "assembler = VectorAssembler(inputCols=[\"Pclass\", \"SexIndex\", \"Age_imputed\", \"Fare_imputed\"], outputCol=\"features\")\n",
        "df = assembler.transform(df).select(\"features\", df[\"Survived\"].cast(\"int\").alias(\"label\"))\n",
        "\n",
        "# Train-test split\n",
        "train, test = df.randomSplit([0.7, 0.3], seed=42)\n",
        "\n",
        "# Train model\n",
        "lr = LogisticRegression()\n",
        "model = lr.fit(train)\n",
        "\n",
        "# Evaluate\n",
        "predictions = model.transform(test)\n",
        "predictions.select(\"label\", \"prediction\").show(5)"
      ],
      "metadata": {
        "colab": {
          "base_uri": "https://localhost:8080/"
        },
        "id": "iU1G-WEaDdab",
        "outputId": "6ac15856-dce3-4924-f4a9-0412ad765bc1"
      },
      "execution_count": null,
      "outputs": [
        {
          "output_type": "stream",
          "name": "stdout",
          "text": [
            "+-----+----------+\n",
            "|label|prediction|\n",
            "+-----+----------+\n",
            "|    0|       1.0|\n",
            "|    0|       1.0|\n",
            "|    0|       1.0|\n",
            "|    1|       1.0|\n",
            "|    0|       1.0|\n",
            "+-----+----------+\n",
            "only showing top 5 rows\n",
            "\n"
          ]
        }
      ]
    },
    {
      "cell_type": "code",
      "source": [
        "from sklearn.datasets import load_iris\n",
        "iris = load_iris()\n",
        "iris_df = pd.DataFrame(iris.data, columns=iris.feature_names)\n",
        "\n",
        "df = spark.createDataFrame(iris_df)\n",
        "\n",
        "# Vector assembler\n",
        "assembler = VectorAssembler(inputCols=df.columns, outputCol=\"features\")\n",
        "df = assembler.transform(df).select(\"features\")\n",
        "\n",
        "from pyspark.ml.clustering import KMeans\n",
        "\n",
        "kmeans = KMeans(k=3, seed=1)\n",
        "model = kmeans.fit(df)\n",
        "\n",
        "# Predictions\n",
        "predictions = model.transform(df)\n",
        "predictions.show(5)\n"
      ],
      "metadata": {
        "colab": {
          "base_uri": "https://localhost:8080/"
        },
        "id": "5hP4nW98DxKt",
        "outputId": "ecfc7e29-eed9-4b5a-dc7c-4bb8592ee0c7"
      },
      "execution_count": null,
      "outputs": [
        {
          "output_type": "stream",
          "name": "stdout",
          "text": [
            "+-----------------+----------+\n",
            "|         features|prediction|\n",
            "+-----------------+----------+\n",
            "|[5.1,3.5,1.4,0.2]|         1|\n",
            "|[4.9,3.0,1.4,0.2]|         1|\n",
            "|[4.7,3.2,1.3,0.2]|         1|\n",
            "|[4.6,3.1,1.5,0.2]|         1|\n",
            "|[5.0,3.6,1.4,0.2]|         1|\n",
            "+-----------------+----------+\n",
            "only showing top 5 rows\n",
            "\n"
          ]
        }
      ]
    },
    {
      "cell_type": "code",
      "source": [
        "# Load MovieLens data\n",
        "url = \"https://files.grouplens.org/datasets/movielens/ml-100k/u.data\"\n",
        "ratings = pd.read_csv(url, sep=\"\\t\", names=[\"userId\", \"movieId\", \"rating\", \"timestamp\"])\n",
        "df = spark.createDataFrame(ratings)\n",
        "\n",
        "from pyspark.ml.recommendation import ALS\n",
        "\n",
        "(training, test) = df.randomSplit([0.8, 0.2])\n",
        "als = ALS(userCol=\"userId\", itemCol=\"movieId\", ratingCol=\"rating\", coldStartStrategy=\"drop\")\n",
        "model = als.fit(training)\n",
        "\n",
        "predictions = model.transform(test)\n",
        "predictions.select(\"userId\", \"movieId\", \"rating\", \"prediction\").show(5)\n"
      ],
      "metadata": {
        "colab": {
          "base_uri": "https://localhost:8080/"
        },
        "id": "ipQ0GIFnD1m1",
        "outputId": "8a97acc4-d899-4c3c-ffc7-eff7b5032f16"
      },
      "execution_count": null,
      "outputs": [
        {
          "output_type": "stream",
          "name": "stdout",
          "text": [
            "+------+-------+------+----------+\n",
            "|userId|movieId|rating|prediction|\n",
            "+------+-------+------+----------+\n",
            "|   148|      1|     4|  4.240008|\n",
            "|   148|      7|     5| 3.9640293|\n",
            "|   148|     78|     1|   1.50119|\n",
            "|   148|    177|     2|  4.338417|\n",
            "|   148|    234|     3| 3.1249607|\n",
            "+------+-------+------+----------+\n",
            "only showing top 5 rows\n",
            "\n"
          ]
        }
      ]
    }
  ]
}